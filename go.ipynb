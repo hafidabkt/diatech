{
 "cells": [
  {
   "cell_type": "code",
   "execution_count": 1,
   "metadata": {},
   "outputs": [],
   "source": [
    "import numpy as np\n",
    "import matplotlib.pyplot as plt\n",
    "import pandas as pd"
   ]
  },
  {
   "cell_type": "code",
   "execution_count": 2,
   "metadata": {},
   "outputs": [],
   "source": [
    "data = pd.read_csv('diabetes_prediction_dataset.csv')"
   ]
  },
  {
   "cell_type": "code",
   "execution_count": 3,
   "metadata": {},
   "outputs": [
    {
     "data": {
      "text/plain": [
       "gender                  object\n",
       "age                    float64\n",
       "hypertension             int64\n",
       "heart_disease            int64\n",
       "smoking_history         object\n",
       "bmi                    float64\n",
       "HbA1c_level            float64\n",
       "blood_glucose_level      int64\n",
       "diabetes                 int64\n",
       "dtype: object"
      ]
     },
     "execution_count": 3,
     "metadata": {},
     "output_type": "execute_result"
    }
   ],
   "source": [
    "data.dtypes"
   ]
  },
  {
   "cell_type": "code",
   "execution_count": 4,
   "metadata": {},
   "outputs": [
    {
     "data": {
      "text/plain": [
       "gender\n",
       "Female    58552\n",
       "Male      41430\n",
       "Other        18\n",
       "Name: count, dtype: int64"
      ]
     },
     "execution_count": 4,
     "metadata": {},
     "output_type": "execute_result"
    }
   ],
   "source": [
    "data[\"gender\"].value_counts()"
   ]
  },
  {
   "cell_type": "code",
   "execution_count": 5,
   "metadata": {},
   "outputs": [],
   "source": [
    "#drop the rows that have Other value in gender column\n",
    "data = data[data['gender'] != 'Other']"
   ]
  },
  {
   "cell_type": "code",
   "execution_count": 6,
   "metadata": {},
   "outputs": [],
   "source": [
    "# map gender to 0 and 1\n",
    "gender_map = {'Female': 0, 'Male': 1}\n",
    "data['gender'] = data['gender'].map(gender_map)\n",
    "\n",
    "\n"
   ]
  },
  {
   "cell_type": "code",
   "execution_count": 7,
   "metadata": {},
   "outputs": [
    {
     "data": {
      "text/plain": [
       "gender\n",
       "0    58552\n",
       "1    41430\n",
       "Name: count, dtype: int64"
      ]
     },
     "execution_count": 7,
     "metadata": {},
     "output_type": "execute_result"
    }
   ],
   "source": [
    "data[\"gender\"].value_counts()"
   ]
  },
  {
   "cell_type": "code",
   "execution_count": 8,
   "metadata": {},
   "outputs": [
    {
     "data": {
      "text/plain": [
       "smoking_history\n",
       "No Info        35810\n",
       "never          35092\n",
       "former          9352\n",
       "current         9286\n",
       "not current     6439\n",
       "ever            4003\n",
       "Name: count, dtype: int64"
      ]
     },
     "execution_count": 8,
     "metadata": {},
     "output_type": "execute_result"
    }
   ],
   "source": [
    "data[\"smoking_history\"].value_counts()"
   ]
  },
  {
   "cell_type": "code",
   "execution_count": 9,
   "metadata": {},
   "outputs": [],
   "source": [
    "# map the smoking history to numerical values\n",
    "smoking_map = {'No Info': 0, 'never': 1, 'former': 2, 'current': 3, 'not current': 4, 'ever' : 5}\n",
    "data['smoking_history'] = data['smoking_history'].map(smoking_map)\n",
    "\n"
   ]
  },
  {
   "cell_type": "code",
   "execution_count": 10,
   "metadata": {},
   "outputs": [
    {
     "data": {
      "text/plain": [
       "gender                   int64\n",
       "age                    float64\n",
       "hypertension             int64\n",
       "heart_disease            int64\n",
       "smoking_history          int64\n",
       "bmi                    float64\n",
       "HbA1c_level            float64\n",
       "blood_glucose_level      int64\n",
       "diabetes                 int64\n",
       "dtype: object"
      ]
     },
     "execution_count": 10,
     "metadata": {},
     "output_type": "execute_result"
    }
   ],
   "source": [
    "data.dtypes\n"
   ]
  },
  {
   "cell_type": "code",
   "execution_count": 11,
   "metadata": {},
   "outputs": [],
   "source": [
    "# calculate how many rows that have age less than 15\n",
    "# age_less_than_15 = data[data['age'] < 2]\n",
    "# age_less_than_15.shape[0]\n",
    "\n",
    "# map age values under 20 to 0 and 20 to 40 to 1 and 40 to 60 to 2 and 60 to 80 to 3 and 80 to 100 to 4\n",
    "data.loc[data['age'] < 20, 'age'] = 0\n",
    "data.loc[(data['age'] >= 20) & (data['age'] < 40), 'age'] = 1\n",
    "data.loc[(data['age'] >= 40) & (data['age'] < 60), 'age'] = 2\n",
    "data.loc[(data['age'] >= 60) & (data['age'] < 80), 'age'] = 3\n",
    "data.loc[(data['age'] >= 80) , 'age'] = 4\n",
    "\n"
   ]
  },
  {
   "cell_type": "code",
   "execution_count": 12,
   "metadata": {},
   "outputs": [
    {
     "data": {
      "text/plain": [
       "bmi\n",
       "2.0    45744\n",
       "3.0    23530\n",
       "1.0    22216\n",
       "0.0     8492\n",
       "Name: count, dtype: int64"
      ]
     },
     "execution_count": 12,
     "metadata": {},
     "output_type": "execute_result"
    }
   ],
   "source": [
    "data[\"bmi\"].value_counts()  \n",
    "# map the values of bmi to 0 and 1 and 2 and 3 \n",
    "data.loc[data['bmi'] < 18.5, 'bmi'] = 0\n",
    "data.loc[(data['bmi'] >= 18.5) & (data['bmi'] <= 24.99), 'bmi'] = 1\n",
    "data.loc[(data['bmi'] >= 25) & (data['bmi'] <= 29.99), 'bmi'] = 2\n",
    "data.loc[(data['bmi'] >= 30) , 'bmi'] = 3\n",
    "data[\"bmi\"].value_counts()  \n"
   ]
  },
  {
   "cell_type": "code",
   "execution_count": 13,
   "metadata": {},
   "outputs": [
    {
     "data": {
      "text/plain": [
       "HbA1c_level\n",
       "1.0    41338\n",
       "0.0    37850\n",
       "2.0    20794\n",
       "Name: count, dtype: int64"
      ]
     },
     "execution_count": 13,
     "metadata": {},
     "output_type": "execute_result"
    }
   ],
   "source": [
    "data[\"HbA1c_level\"].value_counts()  \n",
    "data[\"HbA1c_level\"].mean()\n",
    "\n",
    "# map the values of HbA1c_level to 0 and 1 and 2 and 3\n",
    "data.loc[data['HbA1c_level'] < 5.7, 'HbA1c_level'] = 0\n",
    "data.loc[(data['HbA1c_level'] >= 5.7) & (data['HbA1c_level'] <= 6.4), 'HbA1c_level'] = 1\n",
    "data.loc[(data['HbA1c_level'] >= 6.5) , 'HbA1c_level'] = 2\n",
    "\n",
    "data[\"HbA1c_level\"].value_counts()"
   ]
  },
  {
   "cell_type": "code",
   "execution_count": 14,
   "metadata": {},
   "outputs": [
    {
     "data": {
      "text/plain": [
       "blood_glucose_level\n",
       "1    45472\n",
       "0    43634\n",
       "2    10876\n",
       "Name: count, dtype: int64"
      ]
     },
     "execution_count": 14,
     "metadata": {},
     "output_type": "execute_result"
    }
   ],
   "source": [
    "data[\"blood_glucose_level\"].value_counts()\n",
    "# map the values of blood_glucose_level to 0 and 1 and 2 \n",
    "data[\"blood_glucose_level\"].mean()\n",
    "\n",
    "# age_less_than_15 = data[(data['blood_glucose_level'] >= 126) ]\n",
    "# age_less_than_15.shape[0]\n",
    "\n",
    "data.loc[data['blood_glucose_level'] < 140, 'blood_glucose_level'] = 0\n",
    "data.loc[(data['blood_glucose_level'] >= 140) & (data['blood_glucose_level'] <= 199), 'blood_glucose_level'] = 1\n",
    "data.loc[(data['blood_glucose_level'] >= 200) , 'blood_glucose_level'] = 2\n",
    "\n",
    "data[\"blood_glucose_level\"].value_counts()\n"
   ]
  },
  {
   "cell_type": "code",
   "execution_count": 15,
   "metadata": {},
   "outputs": [
    {
     "data": {
      "text/plain": [
       "diabetes\n",
       "0    91482\n",
       "1     8500\n",
       "Name: count, dtype: int64"
      ]
     },
     "execution_count": 15,
     "metadata": {},
     "output_type": "execute_result"
    }
   ],
   "source": [
    "data[\"diabetes\"].value_counts()\n",
    "\n"
   ]
  },
  {
   "cell_type": "code",
   "execution_count": 16,
   "metadata": {},
   "outputs": [],
   "source": [
    "# do classification using random forest\n",
    "from sklearn.model_selection import train_test_split\n",
    "from sklearn.ensemble import RandomForestClassifier\n",
    "from sklearn.metrics import accuracy_score\n",
    "\n",
    "X = data.drop('diabetes', axis=1)\n",
    "y = data['diabetes']    \n",
    "\n",
    "X_train, X_test, y_train, y_test = train_test_split(X, y, test_size=0.2, random_state=42)\n",
    "\n"
   ]
  },
  {
   "cell_type": "code",
   "execution_count": 17,
   "metadata": {},
   "outputs": [
    {
     "data": {
      "text/plain": [
       "0.9337400610091514"
      ]
     },
     "execution_count": 17,
     "metadata": {},
     "output_type": "execute_result"
    }
   ],
   "source": [
    "clf = RandomForestClassifier(n_estimators=100, random_state=42)\n",
    "clf.fit(X_train, y_train)\n",
    "y_pred = clf.predict(X_test)\n",
    "accuracy_score(y_test, y_pred)"
   ]
  },
  {
   "cell_type": "code",
   "execution_count": 18,
   "metadata": {},
   "outputs": [],
   "source": [
    "# save the model using pickle\n",
    "import pickle\n",
    "filename = 'diabetes_model.sav'\n",
    "pickle.dump(clf, open(filename, 'wb'))\n"
   ]
  },
  {
   "cell_type": "code",
   "execution_count": 31,
   "metadata": {},
   "outputs": [
    {
     "data": {
      "text/plain": [
       "heart_disease\n",
       "0    96040\n",
       "1     3942\n",
       "Name: count, dtype: int64"
      ]
     },
     "execution_count": 31,
     "metadata": {},
     "output_type": "execute_result"
    }
   ],
   "source": [
    "data[\"heart_disease\"].value_counts()"
   ]
  },
  {
   "cell_type": "code",
   "execution_count": 38,
   "metadata": {},
   "outputs": [
    {
     "name": "stdout",
     "output_type": "stream",
     "text": [
      "Running on local URL:  http://127.0.0.1:7874\n",
      "\n",
      "To create a public link, set `share=True` in `launch()`.\n"
     ]
    },
    {
     "data": {
      "text/html": [
       "<div><iframe src=\"http://127.0.0.1:7874/\" width=\"100%\" height=\"500\" allow=\"autoplay; camera; microphone; clipboard-read; clipboard-write;\" frameborder=\"0\" allowfullscreen></iframe></div>"
      ],
      "text/plain": [
       "<IPython.core.display.HTML object>"
      ]
     },
     "metadata": {},
     "output_type": "display_data"
    },
    {
     "data": {
      "text/plain": []
     },
     "execution_count": 38,
     "metadata": {},
     "output_type": "execute_result"
    },
    {
     "name": "stderr",
     "output_type": "stream",
     "text": [
      "c:\\Users\\moham\\anaconda32\\envs\\myenv\\lib\\site-packages\\sklearn\\base.py:493: UserWarning: X does not have valid feature names, but RandomForestClassifier was fitted with feature names\n",
      "  warnings.warn(\n"
     ]
    }
   ],
   "source": [
    "import pickle\n",
    "import gradio as gr\n",
    "import pandas as pd\n",
    "import numpy as np\n",
    "\n",
    "# Load the model\n",
    "model = pickle.load(open('diabetes_model.sav', 'rb'))\n",
    "\n",
    "# Define the smoking map\n",
    "smoking_map = {'No Info': 0, 'never': 1, 'former': 2, 'current': 3, 'not current': 4, 'ever' : 5}\n",
    "\n",
    "def preprocess_data(gender, age, hypertension, heart_disease, smoking_history, bmi, HbA1c_level, blood_glucose_level):\n",
    "    # Map smoking history\n",
    "    smoking_history_mapped = smoking_map.get(smoking_history, 0)\n",
    "\n",
    "    # Create a DataFrame with the input data\n",
    "    data = pd.DataFrame({\n",
    "        'gender': [gender],\n",
    "        'age': [age],\n",
    "        'hypertension': [hypertension],\n",
    "        'heart_disease': [heart_disease],\n",
    "        'smoking_history': [smoking_history_mapped],\n",
    "        'bmi': [bmi],\n",
    "        'HbA1c_level': [HbA1c_level],\n",
    "        'blood_glucose_level': [blood_glucose_level]\n",
    "    })\n",
    "\n",
    "    # Handle potential None values in age, bmi, HbA1c_level, and blood_glucose_level\n",
    "    data['age'] = np.digitize([data['age'][0] or 0], [20, 40, 60, 80], right=True)[0]\n",
    "    data['bmi'] = np.digitize([data['bmi'][0] or 0], [18.5, 25, 30], right=True)[0]\n",
    "    data['HbA1c_level'] = np.digitize([data['HbA1c_level'][0] or 0], [5.7, 6.5], right=True)[0]\n",
    "    data['blood_glucose_level'] = np.digitize([data['blood_glucose_level'][0] or 0], [140, 200], right=True)[0]\n",
    "    # map if male = 0 if female = 1\n",
    "    gender_map = {'Female': 0, 'Male': 1}\n",
    "    data['gender'] = data['gender'].map(gender_map)\n",
    "\n",
    "\n",
    "\n",
    "\n",
    "    return data\n",
    "\n",
    "# Define prediction function\n",
    "def predict_diabetes(gender, age, hypertension, heart_disease, smoking_history, bmi, HbA1c_level, blood_glucose_level):\n",
    "    # Preprocess the input data\n",
    "    input_data = preprocess_data(gender, age, hypertension, heart_disease, smoking_history, bmi, HbA1c_level, blood_glucose_level)\n",
    "\n",
    "    # Extract the values as a numpy array\n",
    "    input_array = input_data.values.reshape(1, -1)\n",
    "\n",
    "    # Make the prediction\n",
    "    prediction = model.predict(input_array)\n",
    "\n",
    "    if str(prediction[0])== '0':\n",
    "        prediction_str = \"No Diabetes\"\n",
    "    else:\n",
    "        prediction_str = \"Diabetes\"\n",
    "\n",
    "    return prediction_str\n",
    "\n",
    "# Gradio Interface\n",
    "iface = gr.Interface(\n",
    "    fn=predict_diabetes,\n",
    "    inputs=[\n",
    "        gr.Radio(choices=['Male', 'Female'], label=\"Gender\"),\n",
    "        gr.Slider(minimum=1, maximum=100, label=\"Age\"),\n",
    "        gr.Checkbox(label=\"Hypertension\"),\n",
    "        gr.Checkbox(label=\"Heart Disease\"),\n",
    "        gr.Dropdown(choices=list(smoking_map.keys()), label=\"Smoking History\"),\n",
    "        gr.Slider(minimum=10, maximum=50, label=\"BMI\"),\n",
    "        gr.Slider(minimum=4, maximum=8, label=\"HbA1c Level\"),\n",
    "        gr.Slider(minimum=70, maximum=300, label=\"Blood Glucose Level\"),\n",
    "    ],\n",
    "    outputs=gr.Label(),\n",
    ")\n",
    "\n",
    "iface.launch()\n"
   ]
  }
 ],
 "metadata": {
  "kernelspec": {
   "display_name": "base",
   "language": "python",
   "name": "python3"
  },
  "language_info": {
   "codemirror_mode": {
    "name": "ipython",
    "version": 3
   },
   "file_extension": ".py",
   "mimetype": "text/x-python",
   "name": "python",
   "nbconvert_exporter": "python",
   "pygments_lexer": "ipython3",
   "version": "3.10.13"
  }
 },
 "nbformat": 4,
 "nbformat_minor": 2
}
